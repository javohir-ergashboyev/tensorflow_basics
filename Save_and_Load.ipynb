{
  "nbformat": 4,
  "nbformat_minor": 0,
  "metadata": {
    "colab": {
      "provenance": [],
      "gpuType": "T4",
      "authorship_tag": "ABX9TyPr4UpqsYy53TpIuZa7rPcJ",
      "include_colab_link": true
    },
    "kernelspec": {
      "name": "python3",
      "display_name": "Python 3"
    },
    "language_info": {
      "name": "python"
    },
    "accelerator": "GPU"
  },
  "cells": [
    {
      "cell_type": "markdown",
      "metadata": {
        "id": "view-in-github",
        "colab_type": "text"
      },
      "source": [
        "<a href=\"https://colab.research.google.com/github/javohir-ergashboyev/tensorflow_basics/blob/main/Save_and_Load.ipynb\" target=\"_parent\"><img src=\"https://colab.research.google.com/assets/colab-badge.svg\" alt=\"Open In Colab\"/></a>"
      ]
    },
    {
      "cell_type": "markdown",
      "source": [
        "**Saving and Loading weights at any time**"
      ],
      "metadata": {
        "id": "osignioLXtCK"
      }
    },
    {
      "cell_type": "code",
      "execution_count": 1,
      "metadata": {
        "colab": {
          "base_uri": "https://localhost:8080/"
        },
        "id": "MvqBR71yKjNA",
        "outputId": "d751d49e-72af-4287-cf13-6ba59efc5dad"
      },
      "outputs": [
        {
          "output_type": "stream",
          "name": "stdout",
          "text": [
            "Requirement already satisfied: pyyaml in /usr/local/lib/python3.10/dist-packages (6.0.1)\n",
            "Requirement already satisfied: h5py in /usr/local/lib/python3.10/dist-packages (3.9.0)\n",
            "Requirement already satisfied: numpy>=1.17.3 in /usr/local/lib/python3.10/dist-packages (from h5py) (1.23.5)\n"
          ]
        }
      ],
      "source": [
        "!pip install pyyaml h5py"
      ]
    },
    {
      "cell_type": "code",
      "source": [
        "import os\n",
        "import tensorflow as tf\n",
        "from tensorflow.keras import layers\n",
        "from tensorflow.keras.datasets import mnist"
      ],
      "metadata": {
        "id": "X1-LAmdCMB6l"
      },
      "execution_count": 3,
      "outputs": []
    },
    {
      "cell_type": "code",
      "source": [
        "data=mnist.load_data()"
      ],
      "metadata": {
        "id": "H35u-chCMs7_"
      },
      "execution_count": 5,
      "outputs": []
    },
    {
      "cell_type": "code",
      "source": [
        "len(data)"
      ],
      "metadata": {
        "colab": {
          "base_uri": "https://localhost:8080/"
        },
        "id": "lVAsUtMhNHth",
        "outputId": "aa974a45-1af6-4dfb-f34d-51623555ff5b"
      },
      "execution_count": 6,
      "outputs": [
        {
          "output_type": "execute_result",
          "data": {
            "text/plain": [
              "2"
            ]
          },
          "metadata": {},
          "execution_count": 6
        }
      ]
    },
    {
      "cell_type": "code",
      "source": [
        "len(data[0][1]),len(data[1][1])"
      ],
      "metadata": {
        "colab": {
          "base_uri": "https://localhost:8080/"
        },
        "id": "B8miNpnqNVwk",
        "outputId": "dfa67be1-33bc-46f9-9972-4bb9fdb76a16"
      },
      "execution_count": 14,
      "outputs": [
        {
          "output_type": "execute_result",
          "data": {
            "text/plain": [
              "(60000, 10000)"
            ]
          },
          "metadata": {},
          "execution_count": 14
        }
      ]
    },
    {
      "cell_type": "code",
      "source": [
        "(xtrain,ytrain),(xtest,ytest)=data"
      ],
      "metadata": {
        "id": "jPa3DLiMNZfN"
      },
      "execution_count": 15,
      "outputs": []
    },
    {
      "cell_type": "code",
      "source": [
        "len(ytrain)"
      ],
      "metadata": {
        "colab": {
          "base_uri": "https://localhost:8080/"
        },
        "id": "WS_H7EUeN8E1",
        "outputId": "d11d36b1-44bd-4550-d816-686df0701c93"
      },
      "execution_count": 16,
      "outputs": [
        {
          "output_type": "execute_result",
          "data": {
            "text/plain": [
              "60000"
            ]
          },
          "metadata": {},
          "execution_count": 16
        }
      ]
    },
    {
      "cell_type": "code",
      "source": [
        "ytrain=ytrain[:1000]\n",
        "ytest=ytest[:1000]\n",
        "\n",
        "xtrain=xtrain[:1000].reshape(-1,784)/255.0\n",
        "xtest=xtest[:1000].reshape(-1,784)/255.0"
      ],
      "metadata": {
        "id": "pCl8iJioN-zR"
      },
      "execution_count": 17,
      "outputs": []
    },
    {
      "cell_type": "code",
      "source": [
        "xtrain[1]"
      ],
      "metadata": {
        "colab": {
          "base_uri": "https://localhost:8080/"
        },
        "id": "hjyfLHR5P9dh",
        "outputId": "364ec9dc-97b0-46c8-e737-743f6ceb9763"
      },
      "execution_count": 21,
      "outputs": [
        {
          "output_type": "execute_result",
          "data": {
            "text/plain": [
              "array([0.        , 0.        , 0.        , 0.        , 0.        ,\n",
              "       0.        , 0.        , 0.        , 0.        , 0.        ,\n",
              "       0.        , 0.        , 0.        , 0.        , 0.        ,\n",
              "       0.        , 0.        , 0.        , 0.        , 0.        ,\n",
              "       0.        , 0.        , 0.        , 0.        , 0.        ,\n",
              "       0.        , 0.        , 0.        , 0.        , 0.        ,\n",
              "       0.        , 0.        , 0.        , 0.        , 0.        ,\n",
              "       0.        , 0.        , 0.        , 0.        , 0.        ,\n",
              "       0.        , 0.        , 0.        , 0.        , 0.        ,\n",
              "       0.        , 0.        , 0.        , 0.        , 0.        ,\n",
              "       0.        , 0.        , 0.        , 0.        , 0.        ,\n",
              "       0.        , 0.        , 0.        , 0.        , 0.        ,\n",
              "       0.        , 0.        , 0.        , 0.        , 0.        ,\n",
              "       0.        , 0.        , 0.        , 0.        , 0.        ,\n",
              "       0.        , 0.        , 0.        , 0.        , 0.        ,\n",
              "       0.        , 0.        , 0.        , 0.        , 0.        ,\n",
              "       0.        , 0.        , 0.        , 0.        , 0.        ,\n",
              "       0.        , 0.        , 0.        , 0.        , 0.        ,\n",
              "       0.        , 0.        , 0.        , 0.        , 0.        ,\n",
              "       0.        , 0.        , 0.        , 0.        , 0.        ,\n",
              "       0.        , 0.        , 0.        , 0.        , 0.        ,\n",
              "       0.        , 0.        , 0.        , 0.        , 0.        ,\n",
              "       0.        , 0.        , 0.        , 0.        , 0.        ,\n",
              "       0.        , 0.        , 0.        , 0.        , 0.        ,\n",
              "       0.        , 0.        , 0.        , 0.        , 0.        ,\n",
              "       0.        , 0.        , 0.2       , 0.62352941, 0.99215686,\n",
              "       0.62352941, 0.19607843, 0.        , 0.        , 0.        ,\n",
              "       0.        , 0.        , 0.        , 0.        , 0.        ,\n",
              "       0.        , 0.        , 0.        , 0.        , 0.        ,\n",
              "       0.        , 0.        , 0.        , 0.        , 0.        ,\n",
              "       0.        , 0.        , 0.        , 0.        , 0.18823529,\n",
              "       0.93333333, 0.98823529, 0.98823529, 0.98823529, 0.92941176,\n",
              "       0.        , 0.        , 0.        , 0.        , 0.        ,\n",
              "       0.        , 0.        , 0.        , 0.        , 0.        ,\n",
              "       0.        , 0.        , 0.        , 0.        , 0.        ,\n",
              "       0.        , 0.        , 0.        , 0.        , 0.        ,\n",
              "       0.        , 0.21176471, 0.89019608, 0.99215686, 0.98823529,\n",
              "       0.9372549 , 0.91372549, 0.98823529, 0.22352941, 0.02352941,\n",
              "       0.        , 0.        , 0.        , 0.        , 0.        ,\n",
              "       0.        , 0.        , 0.        , 0.        , 0.        ,\n",
              "       0.        , 0.        , 0.        , 0.        , 0.        ,\n",
              "       0.        , 0.        , 0.03921569, 0.23529412, 0.87843137,\n",
              "       0.98823529, 0.99215686, 0.98823529, 0.79215686, 0.32941176,\n",
              "       0.98823529, 0.99215686, 0.47843137, 0.        , 0.        ,\n",
              "       0.        , 0.        , 0.        , 0.        , 0.        ,\n",
              "       0.        , 0.        , 0.        , 0.        , 0.        ,\n",
              "       0.        , 0.        , 0.        , 0.        , 0.        ,\n",
              "       0.63921569, 0.98823529, 0.98823529, 0.98823529, 0.99215686,\n",
              "       0.98823529, 0.98823529, 0.37647059, 0.74117647, 0.99215686,\n",
              "       0.65490196, 0.        , 0.        , 0.        , 0.        ,\n",
              "       0.        , 0.        , 0.        , 0.        , 0.        ,\n",
              "       0.        , 0.        , 0.        , 0.        , 0.        ,\n",
              "       0.        , 0.        , 0.2       , 0.93333333, 0.99215686,\n",
              "       0.99215686, 0.74509804, 0.44705882, 0.99215686, 0.89411765,\n",
              "       0.18431373, 0.30980392, 1.        , 0.65882353, 0.        ,\n",
              "       0.        , 0.        , 0.        , 0.        , 0.        ,\n",
              "       0.        , 0.        , 0.        , 0.        , 0.        ,\n",
              "       0.        , 0.        , 0.        , 0.        , 0.18823529,\n",
              "       0.93333333, 0.98823529, 0.98823529, 0.70196078, 0.04705882,\n",
              "       0.29411765, 0.4745098 , 0.08235294, 0.        , 0.        ,\n",
              "       0.99215686, 0.95294118, 0.19607843, 0.        , 0.        ,\n",
              "       0.        , 0.        , 0.        , 0.        , 0.        ,\n",
              "       0.        , 0.        , 0.        , 0.        , 0.        ,\n",
              "       0.        , 0.14901961, 0.64705882, 0.99215686, 0.91372549,\n",
              "       0.81568627, 0.32941176, 0.        , 0.        , 0.        ,\n",
              "       0.        , 0.        , 0.        , 0.99215686, 0.98823529,\n",
              "       0.64705882, 0.        , 0.        , 0.        , 0.        ,\n",
              "       0.        , 0.        , 0.        , 0.        , 0.        ,\n",
              "       0.        , 0.        , 0.        , 0.02745098, 0.69803922,\n",
              "       0.98823529, 0.94117647, 0.27843137, 0.0745098 , 0.10980392,\n",
              "       0.        , 0.        , 0.        , 0.        , 0.        ,\n",
              "       0.        , 0.99215686, 0.98823529, 0.76470588, 0.        ,\n",
              "       0.        , 0.        , 0.        , 0.        , 0.        ,\n",
              "       0.        , 0.        , 0.        , 0.        , 0.        ,\n",
              "       0.        , 0.22352941, 0.98823529, 0.98823529, 0.24705882,\n",
              "       0.        , 0.        , 0.        , 0.        , 0.        ,\n",
              "       0.        , 0.        , 0.        , 0.        , 0.99215686,\n",
              "       0.98823529, 0.76470588, 0.        , 0.        , 0.        ,\n",
              "       0.        , 0.        , 0.        , 0.        , 0.        ,\n",
              "       0.        , 0.        , 0.        , 0.        , 0.77647059,\n",
              "       0.99215686, 0.74509804, 0.        , 0.        , 0.        ,\n",
              "       0.        , 0.        , 0.        , 0.        , 0.        ,\n",
              "       0.        , 0.        , 1.        , 0.99215686, 0.76862745,\n",
              "       0.        , 0.        , 0.        , 0.        , 0.        ,\n",
              "       0.        , 0.        , 0.        , 0.        , 0.        ,\n",
              "       0.        , 0.29803922, 0.96470588, 0.98823529, 0.43921569,\n",
              "       0.        , 0.        , 0.        , 0.        , 0.        ,\n",
              "       0.        , 0.        , 0.        , 0.        , 0.        ,\n",
              "       0.99215686, 0.98823529, 0.58039216, 0.        , 0.        ,\n",
              "       0.        , 0.        , 0.        , 0.        , 0.        ,\n",
              "       0.        , 0.        , 0.        , 0.        , 0.33333333,\n",
              "       0.98823529, 0.90196078, 0.09803922, 0.        , 0.        ,\n",
              "       0.        , 0.        , 0.        , 0.        , 0.        ,\n",
              "       0.        , 0.02745098, 0.52941176, 0.99215686, 0.72941176,\n",
              "       0.04705882, 0.        , 0.        , 0.        , 0.        ,\n",
              "       0.        , 0.        , 0.        , 0.        , 0.        ,\n",
              "       0.        , 0.        , 0.33333333, 0.98823529, 0.8745098 ,\n",
              "       0.        , 0.        , 0.        , 0.        , 0.        ,\n",
              "       0.        , 0.        , 0.        , 0.02745098, 0.51372549,\n",
              "       0.98823529, 0.88235294, 0.27843137, 0.        , 0.        ,\n",
              "       0.        , 0.        , 0.        , 0.        , 0.        ,\n",
              "       0.        , 0.        , 0.        , 0.        , 0.        ,\n",
              "       0.33333333, 0.98823529, 0.56862745, 0.        , 0.        ,\n",
              "       0.        , 0.        , 0.        , 0.        , 0.        ,\n",
              "       0.18823529, 0.64705882, 0.98823529, 0.67843137, 0.        ,\n",
              "       0.        , 0.        , 0.        , 0.        , 0.        ,\n",
              "       0.        , 0.        , 0.        , 0.        , 0.        ,\n",
              "       0.        , 0.        , 0.        , 0.3372549 , 0.99215686,\n",
              "       0.88235294, 0.        , 0.        , 0.        , 0.        ,\n",
              "       0.        , 0.        , 0.44705882, 0.93333333, 0.99215686,\n",
              "       0.63529412, 0.        , 0.        , 0.        , 0.        ,\n",
              "       0.        , 0.        , 0.        , 0.        , 0.        ,\n",
              "       0.        , 0.        , 0.        , 0.        , 0.        ,\n",
              "       0.        , 0.33333333, 0.98823529, 0.97647059, 0.57254902,\n",
              "       0.18823529, 0.11372549, 0.33333333, 0.69803922, 0.88235294,\n",
              "       0.99215686, 0.8745098 , 0.65490196, 0.21960784, 0.        ,\n",
              "       0.        , 0.        , 0.        , 0.        , 0.        ,\n",
              "       0.        , 0.        , 0.        , 0.        , 0.        ,\n",
              "       0.        , 0.        , 0.        , 0.        , 0.33333333,\n",
              "       0.98823529, 0.98823529, 0.98823529, 0.89803922, 0.84313725,\n",
              "       0.98823529, 0.98823529, 0.98823529, 0.76862745, 0.50980392,\n",
              "       0.        , 0.        , 0.        , 0.        , 0.        ,\n",
              "       0.        , 0.        , 0.        , 0.        , 0.        ,\n",
              "       0.        , 0.        , 0.        , 0.        , 0.        ,\n",
              "       0.        , 0.        , 0.10980392, 0.78039216, 0.98823529,\n",
              "       0.98823529, 0.99215686, 0.98823529, 0.98823529, 0.91372549,\n",
              "       0.56862745, 0.        , 0.        , 0.        , 0.        ,\n",
              "       0.        , 0.        , 0.        , 0.        , 0.        ,\n",
              "       0.        , 0.        , 0.        , 0.        , 0.        ,\n",
              "       0.        , 0.        , 0.        , 0.        , 0.        ,\n",
              "       0.        , 0.09803922, 0.50196078, 0.98823529, 0.99215686,\n",
              "       0.98823529, 0.55294118, 0.14509804, 0.        , 0.        ,\n",
              "       0.        , 0.        , 0.        , 0.        , 0.        ,\n",
              "       0.        , 0.        , 0.        , 0.        , 0.        ,\n",
              "       0.        , 0.        , 0.        , 0.        , 0.        ,\n",
              "       0.        , 0.        , 0.        , 0.        , 0.        ,\n",
              "       0.        , 0.        , 0.        , 0.        , 0.        ,\n",
              "       0.        , 0.        , 0.        , 0.        , 0.        ,\n",
              "       0.        , 0.        , 0.        , 0.        , 0.        ,\n",
              "       0.        , 0.        , 0.        , 0.        , 0.        ,\n",
              "       0.        , 0.        , 0.        , 0.        , 0.        ,\n",
              "       0.        , 0.        , 0.        , 0.        , 0.        ,\n",
              "       0.        , 0.        , 0.        , 0.        , 0.        ,\n",
              "       0.        , 0.        , 0.        , 0.        , 0.        ,\n",
              "       0.        , 0.        , 0.        , 0.        , 0.        ,\n",
              "       0.        , 0.        , 0.        , 0.        , 0.        ,\n",
              "       0.        , 0.        , 0.        , 0.        , 0.        ,\n",
              "       0.        , 0.        , 0.        , 0.        , 0.        ,\n",
              "       0.        , 0.        , 0.        , 0.        , 0.        ,\n",
              "       0.        , 0.        , 0.        , 0.        , 0.        ,\n",
              "       0.        , 0.        , 0.        , 0.        , 0.        ,\n",
              "       0.        , 0.        , 0.        , 0.        , 0.        ,\n",
              "       0.        , 0.        , 0.        , 0.        , 0.        ,\n",
              "       0.        , 0.        , 0.        , 0.        , 0.        ,\n",
              "       0.        , 0.        , 0.        , 0.        , 0.        ,\n",
              "       0.        , 0.        , 0.        , 0.        , 0.        ,\n",
              "       0.        , 0.        , 0.        , 0.        ])"
            ]
          },
          "metadata": {},
          "execution_count": 21
        }
      ]
    },
    {
      "cell_type": "code",
      "source": [
        "def create_model():\n",
        "  model=tf.keras.Sequential([\n",
        "      layers.Dense(512, activation='relu', input_shape=(784,)),\n",
        "      layers.Dropout(0.2),\n",
        "      layers.Dense(10)\n",
        "  ])\n",
        "\n",
        "  model.compile(\n",
        "      optimizer='adam',\n",
        "      loss=tf.keras.losses.SparseCategoricalCrossentropy(from_logits=True),\n",
        "      metrics=[tf.keras.metrics.SparseCategoricalAccuracy()]\n",
        "  )\n",
        "  return model\n",
        "model=create_model()\n",
        "model.summary()"
      ],
      "metadata": {
        "colab": {
          "base_uri": "https://localhost:8080/"
        },
        "id": "_3lObur_Obw2",
        "outputId": "4d469f9c-2a3c-4147-95ab-d1013a666523"
      },
      "execution_count": 19,
      "outputs": [
        {
          "output_type": "stream",
          "name": "stdout",
          "text": [
            "Model: \"sequential_1\"\n",
            "_________________________________________________________________\n",
            " Layer (type)                Output Shape              Param #   \n",
            "=================================================================\n",
            " dense_2 (Dense)             (None, 512)               401920    \n",
            "                                                                 \n",
            " dropout_1 (Dropout)         (None, 512)               0         \n",
            "                                                                 \n",
            " dense_3 (Dense)             (None, 10)                5130      \n",
            "                                                                 \n",
            "=================================================================\n",
            "Total params: 407050 (1.55 MB)\n",
            "Trainable params: 407050 (1.55 MB)\n",
            "Non-trainable params: 0 (0.00 Byte)\n",
            "_________________________________________________________________\n"
          ]
        }
      ]
    },
    {
      "cell_type": "markdown",
      "source": [
        "**one checkpoint file**"
      ],
      "metadata": {
        "id": "9Msr2pKHX_Rp"
      }
    },
    {
      "cell_type": "code",
      "source": [
        "checkpoint_path='training_1/cp.ckpt'\n",
        "checkpoint_dir=os.path.dirname(checkpoint_path)\n",
        "def get_callback():\n",
        "  return [\n",
        "      tf.keras.callbacks.ModelCheckpoint(filepath=checkpoint_path, save_weights_only=True, verbose=1)\n",
        "  ]\n"
      ],
      "metadata": {
        "id": "ZXEl3iqGPhkF"
      },
      "execution_count": 22,
      "outputs": []
    },
    {
      "cell_type": "code",
      "source": [
        "model.fit(\n",
        "    xtrain,\n",
        "    ytrain,\n",
        "    epochs=10,\n",
        "    callbacks=get_callback(),\n",
        "    validation_data=(xtest,ytest)\n",
        ")"
      ],
      "metadata": {
        "colab": {
          "base_uri": "https://localhost:8080/"
        },
        "id": "nBsO6axcRGS0",
        "outputId": "1e65af3d-7fc8-4d41-ac8c-afbf238bd7d4"
      },
      "execution_count": 23,
      "outputs": [
        {
          "output_type": "stream",
          "name": "stdout",
          "text": [
            "Epoch 1/10\n",
            "32/32 [==============================] - ETA: 0s - loss: 1.1507 - sparse_categorical_accuracy: 0.6770\n",
            "Epoch 1: saving model to training_1/cp.ckpt\n",
            "32/32 [==============================] - 4s 15ms/step - loss: 1.1507 - sparse_categorical_accuracy: 0.6770 - val_loss: 0.7508 - val_sparse_categorical_accuracy: 0.7620\n",
            "Epoch 2/10\n",
            "20/32 [=================>............] - ETA: 0s - loss: 0.3993 - sparse_categorical_accuracy: 0.8844\n",
            "Epoch 2: saving model to training_1/cp.ckpt\n",
            "32/32 [==============================] - 0s 7ms/step - loss: 0.4102 - sparse_categorical_accuracy: 0.8790 - val_loss: 0.5141 - val_sparse_categorical_accuracy: 0.8330\n",
            "Epoch 3/10\n",
            "19/32 [================>.............] - ETA: 0s - loss: 0.2888 - sparse_categorical_accuracy: 0.9161\n",
            "Epoch 3: saving model to training_1/cp.ckpt\n",
            "32/32 [==============================] - 0s 6ms/step - loss: 0.2667 - sparse_categorical_accuracy: 0.9270 - val_loss: 0.4596 - val_sparse_categorical_accuracy: 0.8560\n",
            "Epoch 4/10\n",
            "20/32 [=================>............] - ETA: 0s - loss: 0.1794 - sparse_categorical_accuracy: 0.9578\n",
            "Epoch 4: saving model to training_1/cp.ckpt\n",
            "32/32 [==============================] - 0s 6ms/step - loss: 0.1898 - sparse_categorical_accuracy: 0.9560 - val_loss: 0.4491 - val_sparse_categorical_accuracy: 0.8550\n",
            "Epoch 5/10\n",
            "19/32 [================>.............] - ETA: 0s - loss: 0.1445 - sparse_categorical_accuracy: 0.9720\n",
            "Epoch 5: saving model to training_1/cp.ckpt\n",
            "32/32 [==============================] - 0s 6ms/step - loss: 0.1456 - sparse_categorical_accuracy: 0.9720 - val_loss: 0.4332 - val_sparse_categorical_accuracy: 0.8570\n",
            "Epoch 6/10\n",
            "19/32 [================>.............] - ETA: 0s - loss: 0.1190 - sparse_categorical_accuracy: 0.9819\n",
            "Epoch 6: saving model to training_1/cp.ckpt\n",
            "32/32 [==============================] - 0s 7ms/step - loss: 0.1123 - sparse_categorical_accuracy: 0.9810 - val_loss: 0.4077 - val_sparse_categorical_accuracy: 0.8680\n",
            "Epoch 7/10\n",
            "19/32 [================>.............] - ETA: 0s - loss: 0.0673 - sparse_categorical_accuracy: 0.9984\n",
            "Epoch 7: saving model to training_1/cp.ckpt\n",
            "32/32 [==============================] - 0s 7ms/step - loss: 0.0777 - sparse_categorical_accuracy: 0.9910 - val_loss: 0.4295 - val_sparse_categorical_accuracy: 0.8570\n",
            "Epoch 8/10\n",
            "19/32 [================>.............] - ETA: 0s - loss: 0.0645 - sparse_categorical_accuracy: 0.9951\n",
            "Epoch 8: saving model to training_1/cp.ckpt\n",
            "32/32 [==============================] - 0s 7ms/step - loss: 0.0631 - sparse_categorical_accuracy: 0.9930 - val_loss: 0.4013 - val_sparse_categorical_accuracy: 0.8710\n",
            "Epoch 9/10\n",
            "20/32 [=================>............] - ETA: 0s - loss: 0.0524 - sparse_categorical_accuracy: 0.9969\n",
            "Epoch 9: saving model to training_1/cp.ckpt\n",
            "32/32 [==============================] - 0s 6ms/step - loss: 0.0493 - sparse_categorical_accuracy: 0.9970 - val_loss: 0.4069 - val_sparse_categorical_accuracy: 0.8740\n",
            "Epoch 10/10\n",
            "19/32 [================>.............] - ETA: 0s - loss: 0.0364 - sparse_categorical_accuracy: 1.0000\n",
            "Epoch 10: saving model to training_1/cp.ckpt\n",
            "32/32 [==============================] - 0s 6ms/step - loss: 0.0401 - sparse_categorical_accuracy: 0.9990 - val_loss: 0.3961 - val_sparse_categorical_accuracy: 0.8680\n"
          ]
        },
        {
          "output_type": "execute_result",
          "data": {
            "text/plain": [
              "<keras.src.callbacks.History at 0x784791380f70>"
            ]
          },
          "metadata": {},
          "execution_count": 23
        }
      ]
    },
    {
      "cell_type": "code",
      "source": [
        "os.listdir(checkpoint_dir)"
      ],
      "metadata": {
        "colab": {
          "base_uri": "https://localhost:8080/"
        },
        "id": "Lrc96btFRnqB",
        "outputId": "a44eead7-34ac-42ac-ae84-9783c8ea750b"
      },
      "execution_count": 24,
      "outputs": [
        {
          "output_type": "execute_result",
          "data": {
            "text/plain": [
              "['checkpoint', 'cp.ckpt.data-00000-of-00001', 'cp.ckpt.index']"
            ]
          },
          "metadata": {},
          "execution_count": 24
        }
      ]
    },
    {
      "cell_type": "code",
      "source": [
        "test_model=create_model()\n",
        "loss,acc=test_model.evaluate(xtest,ytest,verbose=2)\n",
        "print('test model accuracy {:5.2f}%'.format(100*acc))"
      ],
      "metadata": {
        "colab": {
          "base_uri": "https://localhost:8080/"
        },
        "id": "T8WkIAaiR6CM",
        "outputId": "47b92e17-1ad7-4e70-f49a-4f442224271d"
      },
      "execution_count": 25,
      "outputs": [
        {
          "output_type": "stream",
          "name": "stdout",
          "text": [
            "32/32 - 0s - loss: 2.3545 - sparse_categorical_accuracy: 0.1070 - 167ms/epoch - 5ms/step\n",
            "test model accuracy 10.70%\n"
          ]
        }
      ]
    },
    {
      "cell_type": "code",
      "source": [
        "test_model.load_weights(checkpoint_path)\n",
        "loss,acc=test_model.evaluate(xtest,ytest,verbose=2)\n",
        "print('test model accuracy {:5.2f}%'.format(100*acc))"
      ],
      "metadata": {
        "colab": {
          "base_uri": "https://localhost:8080/"
        },
        "id": "zv1fT0CYTCmg",
        "outputId": "85b95d75-46b5-4d80-f0bf-a4495251ae08"
      },
      "execution_count": 26,
      "outputs": [
        {
          "output_type": "stream",
          "name": "stdout",
          "text": [
            "32/32 - 0s - loss: 0.3961 - sparse_categorical_accuracy: 0.8680 - 82ms/epoch - 3ms/step\n",
            "test model accuracy 86.80%\n"
          ]
        }
      ]
    },
    {
      "cell_type": "markdown",
      "source": [
        "**Multiple checkpoint files**"
      ],
      "metadata": {
        "id": "weucITV2YF-H"
      }
    },
    {
      "cell_type": "code",
      "source": [
        "checkpoints_path='training_2/cp-{epoch:04d}.ckpt'\n",
        "checkpoints_dir=os.path.dirname(checkpoints_path)\n",
        "\n",
        "import math\n",
        "\n",
        "batch_size=32\n",
        "n_batches=len(xtrain)/batch_size\n",
        "n_batches=math.ceil(n_batches)\n",
        "\n",
        "def get_callback2():\n",
        "  return [\n",
        "      tf.keras.callbacks.ModelCheckpoint(\n",
        "          checkpoints_path,\n",
        "          verbose=1,\n",
        "          save_weights_only=True,\n",
        "          save_freq=5*n_batches\n",
        "      )\n",
        "  ]\n",
        "\n",
        "model=create_model()\n",
        "\n",
        "model.save_weights(checkpoints_path.format(epoch=0))\n",
        "model.fit(\n",
        "    xtrain,\n",
        "    ytrain,\n",
        "    validation_data=(xtest,ytest),\n",
        "    epochs=50,\n",
        "    callbacks=get_callback2()\n",
        ")\n",
        "\n"
      ],
      "metadata": {
        "colab": {
          "base_uri": "https://localhost:8080/"
        },
        "id": "qSc6yfYkTOR1",
        "outputId": "ac812021-ea21-4fae-9204-4b5dff6d127c"
      },
      "execution_count": 29,
      "outputs": [
        {
          "output_type": "stream",
          "name": "stdout",
          "text": [
            "Epoch 1/50\n",
            "32/32 [==============================] - 1s 10ms/step - loss: 1.2003 - sparse_categorical_accuracy: 0.6390 - val_loss: 0.7582 - val_sparse_categorical_accuracy: 0.7680\n",
            "Epoch 2/50\n",
            "32/32 [==============================] - 0s 5ms/step - loss: 0.4606 - sparse_categorical_accuracy: 0.8620 - val_loss: 0.5538 - val_sparse_categorical_accuracy: 0.8270\n",
            "Epoch 3/50\n",
            "32/32 [==============================] - 0s 5ms/step - loss: 0.2867 - sparse_categorical_accuracy: 0.9210 - val_loss: 0.4834 - val_sparse_categorical_accuracy: 0.8470\n",
            "Epoch 4/50\n",
            "32/32 [==============================] - 0s 5ms/step - loss: 0.2135 - sparse_categorical_accuracy: 0.9430 - val_loss: 0.4491 - val_sparse_categorical_accuracy: 0.8540\n",
            "Epoch 5/50\n",
            "20/32 [=================>............] - ETA: 0s - loss: 0.1719 - sparse_categorical_accuracy: 0.9641\n",
            "Epoch 5: saving model to training_2/cp-0005.ckpt\n",
            "32/32 [==============================] - 0s 6ms/step - loss: 0.1664 - sparse_categorical_accuracy: 0.9660 - val_loss: 0.4215 - val_sparse_categorical_accuracy: 0.8650\n",
            "Epoch 6/50\n",
            "32/32 [==============================] - 0s 5ms/step - loss: 0.1170 - sparse_categorical_accuracy: 0.9820 - val_loss: 0.4358 - val_sparse_categorical_accuracy: 0.8500\n",
            "Epoch 7/50\n",
            "32/32 [==============================] - 0s 6ms/step - loss: 0.0965 - sparse_categorical_accuracy: 0.9840 - val_loss: 0.4028 - val_sparse_categorical_accuracy: 0.8650\n",
            "Epoch 8/50\n",
            "32/32 [==============================] - 0s 6ms/step - loss: 0.0687 - sparse_categorical_accuracy: 0.9910 - val_loss: 0.4046 - val_sparse_categorical_accuracy: 0.8700\n",
            "Epoch 9/50\n",
            "32/32 [==============================] - 0s 6ms/step - loss: 0.0465 - sparse_categorical_accuracy: 0.9980 - val_loss: 0.4183 - val_sparse_categorical_accuracy: 0.8570\n",
            "Epoch 10/50\n",
            "19/32 [================>.............] - ETA: 0s - loss: 0.0381 - sparse_categorical_accuracy: 1.0000\n",
            "Epoch 10: saving model to training_2/cp-0010.ckpt\n",
            "32/32 [==============================] - 0s 7ms/step - loss: 0.0394 - sparse_categorical_accuracy: 1.0000 - val_loss: 0.3878 - val_sparse_categorical_accuracy: 0.8750\n",
            "Epoch 11/50\n",
            "32/32 [==============================] - 0s 6ms/step - loss: 0.0348 - sparse_categorical_accuracy: 0.9990 - val_loss: 0.4299 - val_sparse_categorical_accuracy: 0.8660\n",
            "Epoch 12/50\n",
            "32/32 [==============================] - 0s 6ms/step - loss: 0.0267 - sparse_categorical_accuracy: 0.9980 - val_loss: 0.4016 - val_sparse_categorical_accuracy: 0.8730\n",
            "Epoch 13/50\n",
            "32/32 [==============================] - 0s 5ms/step - loss: 0.0209 - sparse_categorical_accuracy: 1.0000 - val_loss: 0.4114 - val_sparse_categorical_accuracy: 0.8650\n",
            "Epoch 14/50\n",
            "32/32 [==============================] - 0s 6ms/step - loss: 0.0180 - sparse_categorical_accuracy: 1.0000 - val_loss: 0.4094 - val_sparse_categorical_accuracy: 0.8750\n",
            "Epoch 15/50\n",
            "20/32 [=================>............] - ETA: 0s - loss: 0.0129 - sparse_categorical_accuracy: 1.0000\n",
            "Epoch 15: saving model to training_2/cp-0015.ckpt\n",
            "32/32 [==============================] - 0s 6ms/step - loss: 0.0144 - sparse_categorical_accuracy: 1.0000 - val_loss: 0.4037 - val_sparse_categorical_accuracy: 0.8770\n",
            "Epoch 16/50\n",
            "32/32 [==============================] - 0s 5ms/step - loss: 0.0135 - sparse_categorical_accuracy: 1.0000 - val_loss: 0.4035 - val_sparse_categorical_accuracy: 0.8780\n",
            "Epoch 17/50\n",
            "32/32 [==============================] - 0s 5ms/step - loss: 0.0125 - sparse_categorical_accuracy: 1.0000 - val_loss: 0.4153 - val_sparse_categorical_accuracy: 0.8760\n",
            "Epoch 18/50\n",
            "32/32 [==============================] - 0s 6ms/step - loss: 0.0107 - sparse_categorical_accuracy: 1.0000 - val_loss: 0.4173 - val_sparse_categorical_accuracy: 0.8700\n",
            "Epoch 19/50\n",
            "32/32 [==============================] - 0s 5ms/step - loss: 0.0095 - sparse_categorical_accuracy: 1.0000 - val_loss: 0.4136 - val_sparse_categorical_accuracy: 0.8720\n",
            "Epoch 20/50\n",
            "30/32 [===========================>..] - ETA: 0s - loss: 0.0080 - sparse_categorical_accuracy: 1.0000\n",
            "Epoch 20: saving model to training_2/cp-0020.ckpt\n",
            "32/32 [==============================] - 0s 11ms/step - loss: 0.0080 - sparse_categorical_accuracy: 1.0000 - val_loss: 0.4171 - val_sparse_categorical_accuracy: 0.8750\n",
            "Epoch 21/50\n",
            "32/32 [==============================] - 0s 10ms/step - loss: 0.0068 - sparse_categorical_accuracy: 1.0000 - val_loss: 0.4047 - val_sparse_categorical_accuracy: 0.8800\n",
            "Epoch 22/50\n",
            "32/32 [==============================] - 0s 10ms/step - loss: 0.0063 - sparse_categorical_accuracy: 1.0000 - val_loss: 0.4161 - val_sparse_categorical_accuracy: 0.8780\n",
            "Epoch 23/50\n",
            "32/32 [==============================] - 0s 10ms/step - loss: 0.0053 - sparse_categorical_accuracy: 1.0000 - val_loss: 0.4228 - val_sparse_categorical_accuracy: 0.8790\n",
            "Epoch 24/50\n",
            "32/32 [==============================] - 0s 9ms/step - loss: 0.0054 - sparse_categorical_accuracy: 1.0000 - val_loss: 0.4291 - val_sparse_categorical_accuracy: 0.8820\n",
            "Epoch 25/50\n",
            "27/32 [========================>.....] - ETA: 0s - loss: 0.0054 - sparse_categorical_accuracy: 1.0000\n",
            "Epoch 25: saving model to training_2/cp-0025.ckpt\n",
            "32/32 [==============================] - 0s 11ms/step - loss: 0.0052 - sparse_categorical_accuracy: 1.0000 - val_loss: 0.4220 - val_sparse_categorical_accuracy: 0.8810\n",
            "Epoch 26/50\n",
            "32/32 [==============================] - 0s 5ms/step - loss: 0.0041 - sparse_categorical_accuracy: 1.0000 - val_loss: 0.4309 - val_sparse_categorical_accuracy: 0.8760\n",
            "Epoch 27/50\n",
            "32/32 [==============================] - 0s 5ms/step - loss: 0.0042 - sparse_categorical_accuracy: 1.0000 - val_loss: 0.4380 - val_sparse_categorical_accuracy: 0.8750\n",
            "Epoch 28/50\n",
            "32/32 [==============================] - 0s 5ms/step - loss: 0.0038 - sparse_categorical_accuracy: 1.0000 - val_loss: 0.4325 - val_sparse_categorical_accuracy: 0.8770\n",
            "Epoch 29/50\n",
            "32/32 [==============================] - 0s 5ms/step - loss: 0.0031 - sparse_categorical_accuracy: 1.0000 - val_loss: 0.4432 - val_sparse_categorical_accuracy: 0.8720\n",
            "Epoch 30/50\n",
            "21/32 [==================>...........] - ETA: 0s - loss: 0.0032 - sparse_categorical_accuracy: 1.0000\n",
            "Epoch 30: saving model to training_2/cp-0030.ckpt\n",
            "32/32 [==============================] - 0s 7ms/step - loss: 0.0033 - sparse_categorical_accuracy: 1.0000 - val_loss: 0.4349 - val_sparse_categorical_accuracy: 0.8780\n",
            "Epoch 31/50\n",
            "32/32 [==============================] - 0s 5ms/step - loss: 0.0030 - sparse_categorical_accuracy: 1.0000 - val_loss: 0.4483 - val_sparse_categorical_accuracy: 0.8780\n",
            "Epoch 32/50\n",
            "32/32 [==============================] - 0s 6ms/step - loss: 0.0026 - sparse_categorical_accuracy: 1.0000 - val_loss: 0.4425 - val_sparse_categorical_accuracy: 0.8790\n",
            "Epoch 33/50\n",
            "32/32 [==============================] - 0s 5ms/step - loss: 0.0029 - sparse_categorical_accuracy: 1.0000 - val_loss: 0.4356 - val_sparse_categorical_accuracy: 0.8790\n",
            "Epoch 34/50\n",
            "32/32 [==============================] - 0s 6ms/step - loss: 0.0023 - sparse_categorical_accuracy: 1.0000 - val_loss: 0.4491 - val_sparse_categorical_accuracy: 0.8750\n",
            "Epoch 35/50\n",
            "20/32 [=================>............] - ETA: 0s - loss: 0.0024 - sparse_categorical_accuracy: 1.0000\n",
            "Epoch 35: saving model to training_2/cp-0035.ckpt\n",
            "32/32 [==============================] - 0s 6ms/step - loss: 0.0025 - sparse_categorical_accuracy: 1.0000 - val_loss: 0.4496 - val_sparse_categorical_accuracy: 0.8780\n",
            "Epoch 36/50\n",
            "32/32 [==============================] - 0s 5ms/step - loss: 0.0025 - sparse_categorical_accuracy: 1.0000 - val_loss: 0.4578 - val_sparse_categorical_accuracy: 0.8710\n",
            "Epoch 37/50\n",
            "32/32 [==============================] - 0s 5ms/step - loss: 0.0020 - sparse_categorical_accuracy: 1.0000 - val_loss: 0.4502 - val_sparse_categorical_accuracy: 0.8750\n",
            "Epoch 38/50\n",
            "32/32 [==============================] - 0s 5ms/step - loss: 0.0018 - sparse_categorical_accuracy: 1.0000 - val_loss: 0.4463 - val_sparse_categorical_accuracy: 0.8780\n",
            "Epoch 39/50\n",
            "32/32 [==============================] - 0s 5ms/step - loss: 0.0018 - sparse_categorical_accuracy: 1.0000 - val_loss: 0.4506 - val_sparse_categorical_accuracy: 0.8740\n",
            "Epoch 40/50\n",
            "20/32 [=================>............] - ETA: 0s - loss: 0.0020 - sparse_categorical_accuracy: 1.0000\n",
            "Epoch 40: saving model to training_2/cp-0040.ckpt\n",
            "32/32 [==============================] - 0s 6ms/step - loss: 0.0020 - sparse_categorical_accuracy: 1.0000 - val_loss: 0.4551 - val_sparse_categorical_accuracy: 0.8770\n",
            "Epoch 41/50\n",
            "32/32 [==============================] - 0s 6ms/step - loss: 0.0016 - sparse_categorical_accuracy: 1.0000 - val_loss: 0.4568 - val_sparse_categorical_accuracy: 0.8770\n",
            "Epoch 42/50\n",
            "32/32 [==============================] - 0s 5ms/step - loss: 0.0016 - sparse_categorical_accuracy: 1.0000 - val_loss: 0.4651 - val_sparse_categorical_accuracy: 0.8730\n",
            "Epoch 43/50\n",
            "32/32 [==============================] - 0s 5ms/step - loss: 0.0020 - sparse_categorical_accuracy: 1.0000 - val_loss: 0.4592 - val_sparse_categorical_accuracy: 0.8820\n",
            "Epoch 44/50\n",
            "32/32 [==============================] - 0s 5ms/step - loss: 0.0017 - sparse_categorical_accuracy: 1.0000 - val_loss: 0.4683 - val_sparse_categorical_accuracy: 0.8760\n",
            "Epoch 45/50\n",
            "19/32 [================>.............] - ETA: 0s - loss: 0.0012 - sparse_categorical_accuracy: 1.0000    \n",
            "Epoch 45: saving model to training_2/cp-0045.ckpt\n",
            "32/32 [==============================] - 0s 6ms/step - loss: 0.0014 - sparse_categorical_accuracy: 1.0000 - val_loss: 0.4559 - val_sparse_categorical_accuracy: 0.8800\n",
            "Epoch 46/50\n",
            "32/32 [==============================] - 0s 5ms/step - loss: 0.0014 - sparse_categorical_accuracy: 1.0000 - val_loss: 0.4694 - val_sparse_categorical_accuracy: 0.8740\n",
            "Epoch 47/50\n",
            "32/32 [==============================] - 0s 6ms/step - loss: 0.0012 - sparse_categorical_accuracy: 1.0000 - val_loss: 0.4663 - val_sparse_categorical_accuracy: 0.8800\n",
            "Epoch 48/50\n",
            "32/32 [==============================] - 0s 5ms/step - loss: 0.0012 - sparse_categorical_accuracy: 1.0000 - val_loss: 0.4730 - val_sparse_categorical_accuracy: 0.8770\n",
            "Epoch 49/50\n",
            "32/32 [==============================] - 0s 5ms/step - loss: 0.0011 - sparse_categorical_accuracy: 1.0000 - val_loss: 0.4698 - val_sparse_categorical_accuracy: 0.8790\n",
            "Epoch 50/50\n",
            "20/32 [=================>............] - ETA: 0s - loss: 0.0014 - sparse_categorical_accuracy: 1.0000    \n",
            "Epoch 50: saving model to training_2/cp-0050.ckpt\n",
            "32/32 [==============================] - 0s 6ms/step - loss: 0.0012 - sparse_categorical_accuracy: 1.0000 - val_loss: 0.4761 - val_sparse_categorical_accuracy: 0.8760\n"
          ]
        },
        {
          "output_type": "execute_result",
          "data": {
            "text/plain": [
              "<keras.src.callbacks.History at 0x78478177ce20>"
            ]
          },
          "metadata": {},
          "execution_count": 29
        }
      ]
    },
    {
      "cell_type": "code",
      "source": [
        "os.listdir(checkpoints_dir)"
      ],
      "metadata": {
        "colab": {
          "base_uri": "https://localhost:8080/"
        },
        "id": "CXkIwRgwWW3n",
        "outputId": "6f571362-2e9a-4d73-e090-0e44ec020fce"
      },
      "execution_count": 30,
      "outputs": [
        {
          "output_type": "execute_result",
          "data": {
            "text/plain": [
              "['cp-0040.ckpt.index',\n",
              " 'cp-0015.ckpt.index',\n",
              " 'cp-0025.ckpt.index',\n",
              " 'checkpoint',\n",
              " 'cp-0005.ckpt.data-00000-of-00001',\n",
              " 'cp-0015.ckpt.data-00000-of-00001',\n",
              " 'cp-0035.ckpt.index',\n",
              " 'cp-0040.ckpt.data-00000-of-00001',\n",
              " 'cp-0005.ckpt.index',\n",
              " 'cp-0050.ckpt.index',\n",
              " 'cp-0020.ckpt.data-00000-of-00001',\n",
              " 'cp-0045.ckpt.index',\n",
              " 'cp-0000.ckpt.data-00000-of-00001',\n",
              " 'cp-0035.ckpt.data-00000-of-00001',\n",
              " 'cp-0045.ckpt.data-00000-of-00001',\n",
              " 'cp-0050.ckpt.data-00000-of-00001',\n",
              " 'cp-0010.ckpt.data-00000-of-00001',\n",
              " 'cp-0025.ckpt.data-00000-of-00001',\n",
              " 'cp-0030.ckpt.data-00000-of-00001',\n",
              " 'cp-0010.ckpt.index',\n",
              " 'cp-0000.ckpt.index',\n",
              " 'cp-0030.ckpt.index',\n",
              " 'cp-0020.ckpt.index']"
            ]
          },
          "metadata": {},
          "execution_count": 30
        }
      ]
    },
    {
      "cell_type": "code",
      "source": [
        "latest=tf.train.latest_checkpoint(checkpoints_dir)\n",
        "latest\n"
      ],
      "metadata": {
        "colab": {
          "base_uri": "https://localhost:8080/",
          "height": 35
        },
        "id": "jqV0Ey6YXFVq",
        "outputId": "b02024cf-9e87-478d-be40-c75b44a39ddc"
      },
      "execution_count": 31,
      "outputs": [
        {
          "output_type": "execute_result",
          "data": {
            "text/plain": [
              "'training_2/cp-0050.ckpt'"
            ],
            "application/vnd.google.colaboratory.intrinsic+json": {
              "type": "string"
            }
          },
          "metadata": {},
          "execution_count": 31
        }
      ]
    },
    {
      "cell_type": "code",
      "source": [
        "test_model=create_model()\n",
        "test_model.load_weights(latest)\n",
        "loss,acc=test_model.evaluate(xtest,ytest,verbose=2)\n",
        "print('test model accuracy {:5.2f}%'.format(100*acc))"
      ],
      "metadata": {
        "colab": {
          "base_uri": "https://localhost:8080/"
        },
        "id": "TzUI2PvdXS4J",
        "outputId": "9caae546-b702-4f40-a775-86c320365821"
      },
      "execution_count": 32,
      "outputs": [
        {
          "output_type": "stream",
          "name": "stdout",
          "text": [
            "32/32 - 0s - loss: 0.4761 - sparse_categorical_accuracy: 0.8760 - 158ms/epoch - 5ms/step\n",
            "test model accuracy 87.60%\n"
          ]
        }
      ]
    },
    {
      "cell_type": "code",
      "source": [],
      "metadata": {
        "id": "PJvuvzsoXpuS"
      },
      "execution_count": null,
      "outputs": []
    }
  ]
}