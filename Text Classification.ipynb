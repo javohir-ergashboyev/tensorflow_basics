{
 "cells": [
  {
   "cell_type": "markdown",
   "id": "79986dc7-2995-4829-b0a7-5c5612512010",
   "metadata": {},
   "source": [
    "Building simple santiment analysis model using tensorflow "
   ]
  },
  {
   "cell_type": "code",
   "execution_count": 70,
   "id": "1f5a70e0-5e43-4c09-8f08-79e89ca039ca",
   "metadata": {},
   "outputs": [],
   "source": [
    "import tensorflow as tf\n",
    "from tensorflow.keras import layers\n",
    "from tensorflow.keras import losses\n",
    "import pandas as pd \n",
    "import re\n",
    "import numpy as np\n",
    "import os\n",
    "import string\n",
    "import shutil\n",
    "import matplotlib.pyplot as plt"
   ]
  },
  {
   "cell_type": "markdown",
   "id": "aa1a4bf4-4475-46b8-885e-3ec39053d489",
   "metadata": {},
   "source": [
    "1. We need to download dataset. In order to do this we will download dataset using url below which route to the collection of 50k reviews."
   ]
  },
  {
   "cell_type": "code",
   "execution_count": 5,
   "id": "564eb6ef-6799-4117-83c3-0713900c2a37",
   "metadata": {},
   "outputs": [
    {
     "name": "stdout",
     "output_type": "stream",
     "text": [
      "Downloading data from https://ai.stanford.edu/~amaas/data/sentiment/aclImdb_v1.tar.gz\n",
      "84125825/84125825 [==============================] - 120s 1us/step\n"
     ]
    }
   ],
   "source": [
    "url='https://ai.stanford.edu/~amaas/data/sentiment/aclImdb_v1.tar.gz'\n",
    "dataset=tf.keras.utils.get_file('aclImdb_v1', url, untar=True, cache_dir='.', cache_subdir='')\n",
    "dataset_dir=os.path.join(os.path.dirname(dataset), 'aclImdb')\n"
   ]
  },
  {
   "cell_type": "code",
   "execution_count": 7,
   "id": "654298c5-5302-4333-8cde-81d2abf7dfa8",
   "metadata": {},
   "outputs": [
    {
     "data": {
      "text/plain": [
       "['imdb.vocab', 'imdbEr.txt', 'README', 'test', 'train']"
      ]
     },
     "execution_count": 7,
     "metadata": {},
     "output_type": "execute_result"
    }
   ],
   "source": [
    "os.listdir(dataset_dir)"
   ]
  },
  {
   "cell_type": "code",
   "execution_count": 8,
   "id": "e268e80e-3243-4e87-9427-c7ad4ca27887",
   "metadata": {},
   "outputs": [
    {
     "data": {
      "text/plain": [
       "['labeledBow.feat',\n",
       " 'neg',\n",
       " 'pos',\n",
       " 'unsup',\n",
       " 'unsupBow.feat',\n",
       " 'urls_neg.txt',\n",
       " 'urls_pos.txt',\n",
       " 'urls_unsup.txt']"
      ]
     },
     "execution_count": 8,
     "metadata": {},
     "output_type": "execute_result"
    }
   ],
   "source": [
    "train_dir=os.path.join(dataset_dir, 'train')\n",
    "os.listdir(train_dir)"
   ]
  },
  {
   "cell_type": "markdown",
   "id": "cca4e459-348a-44c3-b48c-c0ab928b4b86",
   "metadata": {},
   "source": [
    "Let's chack if data is correctly located in our folder"
   ]
  },
  {
   "cell_type": "code",
   "execution_count": 11,
   "id": "8ccc8814-ad97-4879-9619-1a3c391480c0",
   "metadata": {},
   "outputs": [
    {
     "name": "stdout",
     "output_type": "stream",
     "text": [
      "Rachel Griffiths writes and directs this award winning short film. A heartwarming story about coping with grief and cherishing the memory of those we've loved and lost. Although, only 15 minutes long, Griffiths manages to capture so much emotion and truth onto film in the short space of time. Bud Tingwell gives a touching performance as Will, a widower struggling to cope with his wife's death. Will is confronted by the harsh reality of loneliness and helplessness as he proceeds to take care of Ruth's pet cow, Tulip. The film displays the grief and responsibility one feels for those they have loved and lost. Good cinematography, great direction, and superbly acted. It will bring tears to all those who have lost a loved one, and survived.\n"
     ]
    }
   ],
   "source": [
    "sample_file=os.path.join(train_dir, 'pos/1181_9.txt')\n",
    "with open(sample_file) as f:\n",
    "    print(f.read())"
   ]
  },
  {
   "cell_type": "markdown",
   "id": "fa98fdd1-5733-4cac-a361-475149586b14",
   "metadata": {},
   "source": [
    "To provide text_dataset_from_directory function works correctly, we have to remove extra folders since the function takes argument as class_any_folder  with data inside."
   ]
  },
  {
   "cell_type": "code",
   "execution_count": 12,
   "id": "95f4b04e-2ea2-4040-b29d-b5c1688a15a9",
   "metadata": {},
   "outputs": [],
   "source": [
    "remove_dir=os.path.join(train_dir, 'unsup')\n",
    "shutil.rmtree(remove_dir)"
   ]
  },
  {
   "cell_type": "code",
   "execution_count": 13,
   "id": "0d696a41-6b22-4f35-86d6-46592268655b",
   "metadata": {},
   "outputs": [
    {
     "name": "stdout",
     "output_type": "stream",
     "text": [
      "Found 25000 files belonging to 2 classes.\n",
      "Using 20000 files for training.\n"
     ]
    }
   ],
   "source": [
    "batch_size=32\n",
    "seed=42\n",
    "\n",
    "raw_train_ds=tf.keras.utils.text_dataset_from_directory(\n",
    "    'aclImdb/train',\n",
    "    seed=seed,\n",
    "    batch_size=batch_size,\n",
    "    validation_split=0.2,\n",
    "    subset='training',\n",
    ")"
   ]
  },
  {
   "cell_type": "code",
   "execution_count": 18,
   "id": "dbc9808a-7cde-49d5-8007-4bb1bc35f94f",
   "metadata": {},
   "outputs": [
    {
     "name": "stdout",
     "output_type": "stream",
     "text": [
      "b'Great movie - especially the music - Etta James - \"At Last\". This speaks volumes when you have finally found that special someone.'\n",
      "label 0\n",
      "b\"I am shocked. Shocked and dismayed that the 428 of you IMDB users who voted before me have not given this film a rating of higher than 7. 7?!?? - that's a C!. If I could give FOBH a 20, I'd gladly do it. This film ranks high atop the pantheon of modern comedy, alongside Half Baked and Mallrats, as one of the most hilarious films of all time. If you know _anything_ about rap music - YOU MUST SEE THIS!! If you know nothing about rap music - learn something!, and then see this! Comparisons to 'Spinal Tap' fail to appreciate the inspired genius of this unique film. If you liked Bob Roberts, you'll love this. Watch it and vote it a 10!\"\n",
      "label 1\n",
      "b'What a lovely heart warming television movie. The story tells of a little five year old girl who has lost her daddy and finds it impossible to cope. Her mother is also very distressed ..only a miracle can alleviate their unhappiness.Which all viewers hope will materialise. Samantha Mathis is brilliant as the little girl\\'s mum ,as she was as the nanny in\" Jack and Sarah\",worth watching if you like both Samantha Mathis and happy; year tear jerking movies! Ellen Burstyn is, as, always a delightful grandmother in this tender and magnificently acted movie. Jodelle Ferland (the little five year old) is charming and a most convincing young actress. The film is based on a true story which makes it so touching.\"Mermaid\" is a tribute to the milk of human kindness which is clearly illustrated and clearly is still all around us in this difficult world we live in. \"Mermaid\" gives us all hope ,by realising that there a lot of lovely people in the world with lot\\'s of love to give. James Robson Glasgow Scotland U.K.'\n",
      "label 1\n"
     ]
    }
   ],
   "source": [
    "for t,l in raw_train_ds.take(1):\n",
    "    for i in range(3):\n",
    "        print(t.numpy()[i])\n",
    "        print('label',l.numpy()[i])"
   ]
  },
  {
   "cell_type": "code",
   "execution_count": 20,
   "id": "34ad8069-f4e4-4e0b-a508-606dbed53cdc",
   "metadata": {},
   "outputs": [
    {
     "data": {
      "text/plain": [
       "'neg'"
      ]
     },
     "execution_count": 20,
     "metadata": {},
     "output_type": "execute_result"
    }
   ],
   "source": [
    "raw_train_ds.class_names[0]"
   ]
  },
  {
   "cell_type": "code",
   "execution_count": 31,
   "id": "eaa69a7c-12f4-46c5-9d54-ad096bb012bb",
   "metadata": {},
   "outputs": [
    {
     "name": "stdout",
     "output_type": "stream",
     "text": [
      "tf.Tensor([1 1 1 1 0 1 1 0 0 1 0 0 0 1 0 1 0 0 1 0 0 1 0 0 1 1 0 1 0 1 0 0], shape=(32,), dtype=int32)\n"
     ]
    }
   ],
   "source": [
    "for t,l in raw_train_ds.take(1):\n",
    "    print(l)"
   ]
  },
  {
   "cell_type": "markdown",
   "id": "a0c84765-e710-49e8-aa9f-436339c68a80",
   "metadata": {},
   "source": [
    "lets create our train, validation and test datasets using steps below"
   ]
  },
  {
   "cell_type": "code",
   "execution_count": 32,
   "id": "47e5e911-72e5-4620-9700-430b16cbafb2",
   "metadata": {},
   "outputs": [
    {
     "name": "stdout",
     "output_type": "stream",
     "text": [
      "Found 25000 files belonging to 2 classes.\n",
      "Using 5000 files for validation.\n"
     ]
    }
   ],
   "source": [
    "raw_val_ds=tf.keras.utils.text_dataset_from_directory(\n",
    "    'aclImdb/train',\n",
    "    batch_size=batch_size,\n",
    "    seed=seed,\n",
    "    validation_split=0.2,\n",
    "    subset='validation'\n",
    ")"
   ]
  },
  {
   "cell_type": "code",
   "execution_count": 33,
   "id": "aa93f460-b58e-49ed-8d72-66449458d975",
   "metadata": {},
   "outputs": [
    {
     "name": "stdout",
     "output_type": "stream",
     "text": [
      "Found 25000 files belonging to 2 classes.\n"
     ]
    }
   ],
   "source": [
    "raw_test_ds = tf.keras.utils.text_dataset_from_directory(\n",
    "    'aclImdb/test', \n",
    "    batch_size=batch_size)"
   ]
  },
  {
   "cell_type": "markdown",
   "id": "57d1bf13-0ec7-4db7-9fe0-39779b1675c4",
   "metadata": {},
   "source": [
    "We have done great job so far. Now it is time to standardize(removing punctuations, convert to lover case and so on..),\n",
    "normalize(splitting sentences into tokens), vectorize(converting tokens into numbers as our model only understand numeric values)"
   ]
  },
  {
   "cell_type": "code",
   "execution_count": 36,
   "id": "98c0aad1-66f6-475a-9f52-587212d62320",
   "metadata": {},
   "outputs": [],
   "source": [
    "def custom_standardization(input_data):\n",
    "    text=tf.strings.lower(input_data)\n",
    "    stripped_html=tf.strings.regex_replace(text, '<br />', ' ')\n",
    "    return tf.strings.regex_replace(stripped_html, '[%s]' % re.escape(string.punctuation), '')"
   ]
  },
  {
   "cell_type": "code",
   "execution_count": 40,
   "id": "172c4112-58ae-43e3-bc7b-e2ff469e08db",
   "metadata": {},
   "outputs": [],
   "source": [
    "max_features=10000\n",
    "sequence_length=250\n",
    "vactorize_layer=layers.TextVectorization(\n",
    "    standardize=custom_standardization,\n",
    "    max_tokens=max_features,\n",
    "    output_mode='int',\n",
    "    output_sequence_length=sequence_length\n",
    ")"
   ]
  },
  {
   "cell_type": "code",
   "execution_count": 41,
   "id": "51aab121-8f3d-4272-8a42-7440361a3bbc",
   "metadata": {},
   "outputs": [
    {
     "name": "stdout",
     "output_type": "stream",
     "text": [
      "WARNING:tensorflow:From C:\\Users\\Javohir\\AppData\\Local\\Programs\\Python\\Python311\\Lib\\site-packages\\keras\\src\\utils\\tf_utils.py:492: The name tf.ragged.RaggedTensorValue is deprecated. Please use tf.compat.v1.ragged.RaggedTensorValue instead.\n",
      "\n"
     ]
    }
   ],
   "source": [
    "train_text=raw_train_ds.map(lambda x, y:x)\n",
    "vactorize_layer.adapt(train_text)"
   ]
  },
  {
   "cell_type": "code",
   "execution_count": 44,
   "id": "159c2fc4-ae62-4a5d-97a2-9860026a5aa8",
   "metadata": {},
   "outputs": [],
   "source": [
    " def vectorize_text(text, label):\n",
    "     text=tf.expand_dims(text,-1)\n",
    "     return vactorize_layer(text), label"
   ]
  },
  {
   "cell_type": "code",
   "execution_count": 46,
   "id": "c5fc9b78-714f-4f32-86bd-10219737eb39",
   "metadata": {},
   "outputs": [
    {
     "name": "stdout",
     "output_type": "stream",
     "text": [
      "Review tf.Tensor(b\"My children watch the show everyday that its on. Its a great program for younger children. However they need to stop showing re-runs and do some more actual shows and get rid of Rooney's and Deedee's YELLOW TEETH. Moe is the only Doodle bop with clean white pearlie teeth and the children notice these things and ask if the 2 don't ever brush their teeth? Does the show ever make its way to the United States and if so where can we find its schedule at. And one other thing if we might be able to add. Moe you need to stop hiding so much. Sometimes when you pop up out of no where you scare the younger children and whats with the pulling of the rope? What does that signify? other then getting wet all the time. They need to add newer things to their show instead of the same ole same ole. Kids loose interest that way.\", shape=(), dtype=string)\n",
      "Label neg\n",
      "Vectorized review (<tf.Tensor: shape=(1, 250), dtype=int64, numpy=\n",
      "array([[  54,  457,  103,    2,  119, 2813,   12,   29,   20,   29,    4,\n",
      "          86, 1992,   15, 1132,  457,  189,   34,  349,    6,  618,  801,\n",
      "        5646,    3,   82,   46,   50,  732,  266,    3,   75, 4232,    5,\n",
      "           1,    3,    1, 3949, 2678, 6400,    7,    2,   61,    1,    1,\n",
      "          16, 2244,  441,    1, 2678,    3,    2,  457, 1472,  129,  175,\n",
      "           3,  903,   45,    2,  284,   89,  121, 8520,   64, 2678,  120,\n",
      "           2,  119,  121,   96,   29,   95,    6,    2, 2300, 1549,    3,\n",
      "          45,   37,  114,   68,   71,  163,   29, 6805,   31,    3,   28,\n",
      "          78,  150,   45,   71,  227,   26,  493,    6,  730, 6400,   22,\n",
      "         349,    6,  618, 3116,   37,   72,  517,   51,   22, 1927,   56,\n",
      "          44,    5,   57,  114,   22, 2259,    2, 1132,  457,    3,  692,\n",
      "          16,    2, 3914,    5,    2, 5987,   48,  120,   12,    1,   78,\n",
      "          92,  383, 4639,   30,    2,   58,   34,  349,    6,  730, 5590,\n",
      "         175,    6,   64,  119,  291,    5,    2,  164,    1,  164,    1,\n",
      "         328, 1901,  598,   12,   95,    0,    0,    0,    0,    0,    0,\n",
      "           0,    0,    0,    0,    0,    0,    0,    0,    0,    0,    0,\n",
      "           0,    0,    0,    0,    0,    0,    0,    0,    0,    0,    0,\n",
      "           0,    0,    0,    0,    0,    0,    0,    0,    0,    0,    0,\n",
      "           0,    0,    0,    0,    0,    0,    0,    0,    0,    0,    0,\n",
      "           0,    0,    0,    0,    0,    0,    0,    0,    0,    0,    0,\n",
      "           0,    0,    0,    0,    0,    0,    0,    0,    0,    0,    0,\n",
      "           0,    0,    0,    0,    0,    0,    0,    0,    0,    0,    0,\n",
      "           0,    0,    0,    0,    0,    0,    0,    0]], dtype=int64)>, <tf.Tensor: shape=(), dtype=int32, numpy=0>)\n"
     ]
    }
   ],
   "source": [
    "text_batch, label_batch=next(iter(raw_train_ds))\n",
    "first_review,first_label=text_batch[0], label_batch[0]\n",
    "print(\"Review\", first_review)\n",
    "print(\"Label\", raw_train_ds.class_names[first_label])\n",
    "print(\"Vectorized review\", vectorize_text(first_review, first_label))"
   ]
  },
  {
   "cell_type": "code",
   "execution_count": 48,
   "id": "833e83af-17ce-48da-83b0-cb79e9b00805",
   "metadata": {},
   "outputs": [
    {
     "data": {
      "text/plain": [
       "'yellow'"
      ]
     },
     "execution_count": 48,
     "metadata": {},
     "output_type": "execute_result"
    }
   ],
   "source": [
    "vactorize_layer.get_vocabulary()[3949]"
   ]
  },
  {
   "cell_type": "code",
   "execution_count": 49,
   "id": "d4f28817-87f7-4980-ab58-72bebf90d44a",
   "metadata": {},
   "outputs": [],
   "source": [
    "train_ds = raw_train_ds.map(vectorize_text)\n",
    "val_ds = raw_val_ds.map(vectorize_text)\n",
    "test_ds = raw_test_ds.map(vectorize_text)"
   ]
  },
  {
   "cell_type": "markdown",
   "id": "d4e2341d-f65c-4118-960a-cdd72c9f6a74",
   "metadata": {},
   "source": [
    "Configuring dataset for performance"
   ]
  },
  {
   "cell_type": "code",
   "execution_count": 51,
   "id": "8c95f43a-e8e0-445d-bad9-f4fb8f9dd3fb",
   "metadata": {},
   "outputs": [],
   "source": [
    "train_ds = train_ds.cache().prefetch(buffer_size=tf.data.AUTOTUNE)\n",
    "val_ds = val_ds.cache().prefetch(buffer_size=tf.data.AUTOTUNE)\n",
    "test_ds = test_ds.cache().prefetch(buffer_size=tf.data.AUTOTUNE)"
   ]
  },
  {
   "cell_type": "markdown",
   "id": "d32ab6c1-a4e3-4f6c-a9fa-aed0f8cda38c",
   "metadata": {},
   "source": [
    "Building model"
   ]
  },
  {
   "cell_type": "code",
   "execution_count": 54,
   "id": "e9ddeab1-8d6a-460c-b109-682be6f6d799",
   "metadata": {},
   "outputs": [],
   "source": [
    "embedding_dims = 16"
   ]
  },
  {
   "cell_type": "code",
   "execution_count": 55,
   "id": "b7478528-5d6a-4777-8391-d95bb3a53ca6",
   "metadata": {},
   "outputs": [
    {
     "name": "stdout",
     "output_type": "stream",
     "text": [
      "Model: \"sequential\"\n",
      "_________________________________________________________________\n",
      " Layer (type)                Output Shape              Param #   \n",
      "=================================================================\n",
      " embedding (Embedding)       (None, None, 16)          160000    \n",
      "                                                                 \n",
      " dropout (Dropout)           (None, None, 16)          0         \n",
      "                                                                 \n",
      " global_average_pooling1d (  (None, 16)                0         \n",
      " GlobalAveragePooling1D)                                         \n",
      "                                                                 \n",
      " dropout_1 (Dropout)         (None, 16)                0         \n",
      "                                                                 \n",
      " dense (Dense)               (None, 1)                 17        \n",
      "                                                                 \n",
      "=================================================================\n",
      "Total params: 160017 (625.07 KB)\n",
      "Trainable params: 160017 (625.07 KB)\n",
      "Non-trainable params: 0 (0.00 Byte)\n",
      "_________________________________________________________________\n"
     ]
    }
   ],
   "source": [
    "model=tf.keras.Sequential([\n",
    "    layers.Embedding(max_features, embedding_dims),\n",
    "    layers.Dropout(0.2),\n",
    "    layers.GlobalAveragePooling1D(),\n",
    "    layers.Dropout(0.2),\n",
    "    layers.Dense(1)\n",
    "])\n",
    "model.summary()"
   ]
  },
  {
   "cell_type": "code",
   "execution_count": 57,
   "id": "52dbdace-1851-4f88-b6d2-5800d34c9e4d",
   "metadata": {},
   "outputs": [
    {
     "name": "stdout",
     "output_type": "stream",
     "text": [
      "WARNING:tensorflow:From C:\\Users\\Javohir\\AppData\\Local\\Programs\\Python\\Python311\\Lib\\site-packages\\keras\\src\\optimizers\\__init__.py:309: The name tf.train.Optimizer is deprecated. Please use tf.compat.v1.train.Optimizer instead.\n",
      "\n"
     ]
    }
   ],
   "source": [
    "model.compile(\n",
    "    loss=losses.BinaryCrossentropy(from_logits=True),\n",
    "    optimizer='adam',\n",
    "    metrics=tf.metrics.BinaryAccuracy(threshold=0.0)\n",
    ")"
   ]
  },
  {
   "cell_type": "code",
   "execution_count": 58,
   "id": "b57498b3-a6da-4642-9b84-821976e763a1",
   "metadata": {},
   "outputs": [
    {
     "name": "stdout",
     "output_type": "stream",
     "text": [
      "Epoch 1/10\n",
      "625/625 [==============================] - 202s 307ms/step - loss: 0.6658 - binary_accuracy: 0.6933 - val_loss: 0.6176 - val_binary_accuracy: 0.7746\n",
      "Epoch 2/10\n",
      "625/625 [==============================] - 5s 9ms/step - loss: 0.5512 - binary_accuracy: 0.8011 - val_loss: 0.5005 - val_binary_accuracy: 0.8210\n",
      "Epoch 3/10\n",
      "625/625 [==============================] - 5s 9ms/step - loss: 0.4465 - binary_accuracy: 0.8437 - val_loss: 0.4215 - val_binary_accuracy: 0.8458\n",
      "Epoch 4/10\n",
      "625/625 [==============================] - 5s 9ms/step - loss: 0.3796 - binary_accuracy: 0.8655 - val_loss: 0.3748 - val_binary_accuracy: 0.8602\n",
      "Epoch 5/10\n",
      "625/625 [==============================] - 5s 8ms/step - loss: 0.3366 - binary_accuracy: 0.8785 - val_loss: 0.3456 - val_binary_accuracy: 0.8654\n",
      "Epoch 6/10\n",
      "625/625 [==============================] - 5s 9ms/step - loss: 0.3063 - binary_accuracy: 0.8880 - val_loss: 0.3267 - val_binary_accuracy: 0.8706\n",
      "Epoch 7/10\n",
      "625/625 [==============================] - 5s 9ms/step - loss: 0.2820 - binary_accuracy: 0.8982 - val_loss: 0.3131 - val_binary_accuracy: 0.8736\n",
      "Epoch 8/10\n",
      "625/625 [==============================] - 5s 9ms/step - loss: 0.2635 - binary_accuracy: 0.9034 - val_loss: 0.3037 - val_binary_accuracy: 0.8758\n",
      "Epoch 9/10\n",
      "625/625 [==============================] - 5s 8ms/step - loss: 0.2461 - binary_accuracy: 0.9110 - val_loss: 0.2969 - val_binary_accuracy: 0.8764\n",
      "Epoch 10/10\n",
      "625/625 [==============================] - 5s 9ms/step - loss: 0.2326 - binary_accuracy: 0.9146 - val_loss: 0.2924 - val_binary_accuracy: 0.8778\n"
     ]
    }
   ],
   "source": [
    "history=model.fit(\n",
    "    train_ds,\n",
    "    validation_data=val_ds,\n",
    "    epochs=10\n",
    ")"
   ]
  },
  {
   "cell_type": "markdown",
   "id": "f2ac6758-dc32-45ef-a55d-077ce5604557",
   "metadata": {},
   "source": [
    "Testing our model if it performs well"
   ]
  },
  {
   "cell_type": "code",
   "execution_count": 59,
   "id": "63b18955-f6fc-484c-96a2-f2c1f4182627",
   "metadata": {},
   "outputs": [
    {
     "name": "stdout",
     "output_type": "stream",
     "text": [
      "782/782 [==============================] - 226s 285ms/step - loss: 0.3103 - binary_accuracy: 0.8734\n",
      "Loss:  0.3103412985801697\n",
      "Accuracy:  0.8733599781990051\n"
     ]
    }
   ],
   "source": [
    "loss, accuracy = model.evaluate(test_ds)\n",
    "\n",
    "print(\"Loss: \", loss)\n",
    "print(\"Accuracy: \", accuracy)"
   ]
  },
  {
   "cell_type": "markdown",
   "id": "c63fd8b1-4705-42a1-8492-5605929d83e3",
   "metadata": {},
   "source": [
    "our model returns History object which involves dictionary of each step. Using this, we can plot the process. "
   ]
  },
  {
   "cell_type": "code",
   "execution_count": 65,
   "id": "f72585de-9f11-4e52-963e-ad4a3b93e9bd",
   "metadata": {},
   "outputs": [
    {
     "data": {
      "text/plain": [
       "dict_keys(['loss', 'binary_accuracy', 'val_loss', 'val_binary_accuracy'])"
      ]
     },
     "execution_count": 65,
     "metadata": {},
     "output_type": "execute_result"
    }
   ],
   "source": [
    "history_dict=history.history\n",
    "history_dict.keys()"
   ]
  },
  {
   "cell_type": "code",
   "execution_count": 68,
   "id": "701adf61-4262-42a8-aed8-4160b76511d2",
   "metadata": {},
   "outputs": [],
   "source": [
    "loss=history_dict['loss']\n",
    "binary_accuracy=history_dict['binary_accuracy']\n",
    "val_loss=history_dict['val_loss']\n",
    "val_binary_accuracy=history_dict['val_binary_accuracy']"
   ]
  },
  {
   "cell_type": "code",
   "execution_count": 69,
   "id": "a882f679-a2ff-41a3-91a2-bc32abcc574e",
   "metadata": {},
   "outputs": [],
   "source": [
    "epochs=range(1, len(loss)+1)"
   ]
  },
  {
   "cell_type": "code",
   "execution_count": 77,
   "id": "eb3f591b-4e96-45d3-b89f-45a50ac33820",
   "metadata": {},
   "outputs": [
    {
     "data": {
      "image/png": "[encoded data removed]",
      "text/plain": [
       "<Figure size 500x400 with 1 Axes>"
      ]
     },
     "metadata": {},
     "output_type": "display_data"
    }
   ],
   "source": [
    "plt.figure(figsize=(5,4))\n",
    "plt.plot(epochs, loss, 'b', label='Loss')\n",
    "plt.plot(epochs, val_loss, 'ro', label='Validation Loss')\n",
    "plt.title('Loss')\n",
    "plt.xlabel('Epochs'),\n",
    "plt.ylabel('Loss')\n",
    "plt.legend()\n",
    "plt.show()\n"
   ]
  },
  {
   "cell_type": "code",
   "execution_count": 79,
   "id": "d73cb141-ba96-4990-9c6f-a9fa3b2ff7d6",
   "metadata": {},
   "outputs": [
    {
     "data": {
      "image/png": "[encoded data removed]",
      "text/plain": [
       "<Figure size 500x400 with 1 Axes>"
      ]
     },
     "metadata": {},
     "output_type": "display_data"
    }
   ],
   "source": [
    "plt.figure(figsize=(5,4))\n",
    "plt.plot(epochs, binary_accuracy, 'b', label='Accuracy')\n",
    "plt.plot(epochs, val_binary_accuracy, 'ro', label='Validation Accuracy')\n",
    "plt.title('Accuracy of model')\n",
    "plt.xlabel('Epochs'),\n",
    "plt.ylabel('Accuracy')\n",
    "plt.legend()\n",
    "plt.show()"
   ]
  },
  {
   "cell_type": "markdown",
   "id": "0d234fe7-7aa6-460c-814d-d8c1bd90eec8",
   "metadata": {},
   "source": [
    "In the code above, you applied the TextVectorization layer to the dataset before feeding text to the model. If you want to make your model capable of processing raw strings (for example, to simplify deploying it), you can include the TextVectorization layer inside your model. To do so, you can create a new model using the weights you just trained.\r\n",
    "\r\n"
   ]
  },
  {
   "cell_type": "code",
   "execution_count": 81,
   "id": "3e869d40-a5c3-43b1-8148-c15756a1d97b",
   "metadata": {},
   "outputs": [
    {
     "name": "stdout",
     "output_type": "stream",
     "text": [
      "WARNING:tensorflow:From C:\\Users\\Javohir\\AppData\\Local\\Programs\\Python\\Python311\\Lib\\site-packages\\keras\\src\\engine\\base_layer_utils.py:384: The name tf.executing_eagerly_outside_functions is deprecated. Please use tf.compat.v1.executing_eagerly_outside_functions instead.\n",
      "\n",
      "782/782 [==============================] - 12s 12ms/step - loss: 0.3103 - accuracy: 0.8734\n",
      "0.8733599781990051\n"
     ]
    }
   ],
   "source": [
    "export_model = tf.keras.Sequential([\n",
    "  vactorize_layer,\n",
    "  model,\n",
    "  layers.Activation('sigmoid')\n",
    "])\n",
    "\n",
    "export_model.compile(\n",
    "    loss=losses.BinaryCrossentropy(from_logits=False), optimizer=\"adam\", metrics=['accuracy']\n",
    ")\n",
    "\n",
    "# Test it with `raw_test_ds`, which yields raw strings\n",
    "loss, accuracy = export_model.evaluate(raw_test_ds)\n",
    "print(accuracy)"
   ]
  },
  {
   "cell_type": "code",
   "execution_count": 83,
   "id": "3f59cd45-cbe9-41b8-a17d-28cc6050d863",
   "metadata": {},
   "outputs": [
    {
     "name": "stdout",
     "output_type": "stream",
     "text": [
      "1/1 [==============================] - 0s 174ms/step\n"
     ]
    },
    {
     "data": {
      "text/plain": [
       "array([[0.62393343],\n",
       "       [0.448426  ],\n",
       "       [0.36364537]], dtype=float32)"
      ]
     },
     "execution_count": 83,
     "metadata": {},
     "output_type": "execute_result"
    }
   ],
   "source": [
    "examples = [\n",
    "  \"The movie was great!\",\n",
    "  \"The movie was okay.\",\n",
    "  \"The movie was terrible...\"\n",
    "]\n",
    "\n",
    "export_model.predict(examples)\n"
   ]
  },
  {
   "cell_type": "code",
   "execution_count": null,
   "id": "009a4843-1adb-43e6-9f61-e7a1c3423422",
   "metadata": {},
   "outputs": [],
   "source": []
  }
 ],
 "metadata": {
  "kernelspec": {
   "display_name": "Python 3 (ipykernel)",
   "language": "python",
   "name": "python3"
  },
  "language_info": {
   "codemirror_mode": {
    "name": "ipython",
    "version": 3
   },
   "file_extension": ".py",
   "mimetype": "text/x-python",
   "name": "python",
   "nbconvert_exporter": "python",
   "pygments_lexer": "ipython3",
   "version": "3.11.2"
  }
 },
 "nbformat": 4,
 "nbformat_minor": 5
}
