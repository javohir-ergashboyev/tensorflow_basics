{
  "nbformat": 4,
  "nbformat_minor": 0,
  "metadata": {
    "colab": {
      "provenance": [],
      "gpuType": "T4",
      "authorship_tag": "ABX9TyOhav0aEU8z+Kj4X26e3yPz",
      "include_colab_link": true
    },
    "kernelspec": {
      "name": "python3",
      "display_name": "Python 3"
    },
    "language_info": {
      "name": "python"
    },
    "accelerator": "GPU"
  },
  "cells": [
    {
      "cell_type": "markdown",
      "metadata": {
        "id": "view-in-github",
        "colab_type": "text"
      },
      "source": [
        "<a href=\"https://colab.research.google.com/github/javohir-ergashboyev/tensorflow_basics/blob/main/Hypertuning.ipynb\" target=\"_parent\"><img src=\"https://colab.research.google.com/assets/colab-badge.svg\" alt=\"Open In Colab\"/></a>"
      ]
    },
    {
      "cell_type": "markdown",
      "source": [
        "In this particular process, simple image classification model are built using hyperparametres library"
      ],
      "metadata": {
        "id": "YtR7Lm1bqJjk"
      }
    },
    {
      "cell_type": "markdown",
      "source": [
        "1 setup and installing"
      ],
      "metadata": {
        "id": "Ln8tI3E8qYv_"
      }
    },
    {
      "cell_type": "code",
      "execution_count": 1,
      "metadata": {
        "id": "C0hPwEhYqFYH"
      },
      "outputs": [],
      "source": [
        "import tensorflow as tf\n",
        "from tensorflow import keras"
      ]
    },
    {
      "cell_type": "code",
      "source": [
        "!pip install -U -q keras-tuner"
      ],
      "metadata": {
        "colab": {
          "base_uri": "https://localhost:8080/"
        },
        "id": "hBngSiRlqlqQ",
        "outputId": "3b4762e2-690a-4dd1-e47e-796954e4c48f"
      },
      "execution_count": 2,
      "outputs": [
        {
          "output_type": "stream",
          "name": "stdout",
          "text": [
            "\u001b[?25l     \u001b[90m━━━━━━━━━━━━━━━━━━━━━━━━━━━━━━━━━━━━━━━━\u001b[0m \u001b[32m0.0/128.9 kB\u001b[0m \u001b[31m?\u001b[0m eta \u001b[36m-:--:--\u001b[0m\r\u001b[2K     \u001b[90m━━━━━━━━━━━━━━━━━━━━━━━━━━━━━━━━━━━━━━━━\u001b[0m \u001b[32m128.9/128.9 kB\u001b[0m \u001b[31m4.5 MB/s\u001b[0m eta \u001b[36m0:00:00\u001b[0m\n",
            "\u001b[?25h"
          ]
        }
      ]
    },
    {
      "cell_type": "code",
      "source": [
        "import keras_tuner as kt"
      ],
      "metadata": {
        "id": "_78W_6sRqzUi"
      },
      "execution_count": 3,
      "outputs": []
    },
    {
      "cell_type": "code",
      "source": [
        "from tensorflow.keras.datasets import fashion_mnist"
      ],
      "metadata": {
        "id": "9JgPWQyDq5lH"
      },
      "execution_count": 4,
      "outputs": []
    },
    {
      "cell_type": "code",
      "source": [
        "data=fashion_mnist.load_data()"
      ],
      "metadata": {
        "colab": {
          "base_uri": "https://localhost:8080/"
        },
        "id": "xzJwcfMdrNYC",
        "outputId": "c8f8be8e-0459-43d7-d2c9-77f183184351"
      },
      "execution_count": 5,
      "outputs": [
        {
          "output_type": "stream",
          "name": "stdout",
          "text": [
            "Downloading data from https://storage.googleapis.com/tensorflow/tf-keras-datasets/train-labels-idx1-ubyte.gz\n",
            "29515/29515 [==============================] - 0s 0us/step\n",
            "Downloading data from https://storage.googleapis.com/tensorflow/tf-keras-datasets/train-images-idx3-ubyte.gz\n",
            "26421880/26421880 [==============================] - 0s 0us/step\n",
            "Downloading data from https://storage.googleapis.com/tensorflow/tf-keras-datasets/t10k-labels-idx1-ubyte.gz\n",
            "5148/5148 [==============================] - 0s 0us/step\n",
            "Downloading data from https://storage.googleapis.com/tensorflow/tf-keras-datasets/t10k-images-idx3-ubyte.gz\n",
            "4422102/4422102 [==============================] - 0s 0us/step\n"
          ]
        }
      ]
    },
    {
      "cell_type": "code",
      "source": [
        "type(data[0][1])"
      ],
      "metadata": {
        "colab": {
          "base_uri": "https://localhost:8080/"
        },
        "id": "wizKRiAMrU4n",
        "outputId": "57bd5e9e-e1d3-4844-bf28-6c151a4e1fda"
      },
      "execution_count": 6,
      "outputs": [
        {
          "output_type": "execute_result",
          "data": {
            "text/plain": [
              "numpy.ndarray"
            ]
          },
          "metadata": {},
          "execution_count": 6
        }
      ]
    },
    {
      "cell_type": "code",
      "source": [
        "(xtrain,ytrain),(xtest,ytest)=data\n",
        "xtrain.shape, xtest.shape"
      ],
      "metadata": {
        "colab": {
          "base_uri": "https://localhost:8080/"
        },
        "id": "0EdhU3edrY3_",
        "outputId": "6a434b5d-beb1-4ef4-81a0-5b55b49c1768"
      },
      "execution_count": 7,
      "outputs": [
        {
          "output_type": "execute_result",
          "data": {
            "text/plain": [
              "((60000, 28, 28), (10000, 28, 28))"
            ]
          },
          "metadata": {},
          "execution_count": 7
        }
      ]
    },
    {
      "cell_type": "code",
      "source": [
        "xtrain=xtrain.astype('float64')/255.0\n",
        "xtest=xtest.astype('float64')/255.0"
      ],
      "metadata": {
        "id": "m8Wor3w5r6Am"
      },
      "execution_count": 19,
      "outputs": []
    },
    {
      "cell_type": "code",
      "source": [
        "def model_builder(hp):\n",
        "  model=keras.Sequential()\n",
        "  model.add(keras.layers.Flatten(input_shape=(28,28)))\n",
        "  hp_units=hp.Int('units',min_value=32, max_value=512, step=32)\n",
        "  model.add(keras.layers.Dense(hp_units, activation='relu'))\n",
        "  model.add(keras.layers.Dense(10))\n",
        "  hp_rate=hp.Choice('learning_rate', values=[1e-2,1e-3,1e-4])\n",
        "  model.compile(\n",
        "      optimizer=keras.optimizers.Adam(learning_rate=hp_rate),\n",
        "      loss=keras.losses.SparseCategoricalCrossentropy(from_logits=True),\n",
        "      metrics=['accuracy']\n",
        "  )\n",
        "  return model"
      ],
      "metadata": {
        "id": "SgGBWw2Gsnbn"
      },
      "execution_count": 20,
      "outputs": []
    },
    {
      "cell_type": "code",
      "source": [
        "tuner=kt.Hyperband(\n",
        "    model_builder,\n",
        "    objective='val_accuracy',\n",
        "    max_epochs=10,\n",
        "    factor=3,\n",
        "    directory='my_dir',\n",
        "    project_name='hypertuning'\n",
        ")"
      ],
      "metadata": {
        "id": "JpxJyPrgvdwa"
      },
      "execution_count": 21,
      "outputs": []
    },
    {
      "cell_type": "code",
      "source": [
        "stop_early=keras.callbacks.EarlyStopping(monitor='val_loss', patience=5)"
      ],
      "metadata": {
        "id": "xswGRaPkwIhE"
      },
      "execution_count": 22,
      "outputs": []
    },
    {
      "cell_type": "code",
      "source": [
        "hp_search=tuner.search(xtrain,ytrain, epochs=50, validation_split=0.2, callbacks=[stop_early])\n",
        "\n",
        "best_parmetres=tuner.get_best_hyperparameters(num_trials=1)[0]\n",
        "print(f\"best unit is {best_parmetres.get('units')}, and best learning rate is {best_parmetres.get('learning_rate')} \")"
      ],
      "metadata": {
        "colab": {
          "base_uri": "https://localhost:8080/"
        },
        "id": "RAfHTr2qxFF_",
        "outputId": "26967386-e9df-4f81-ccf1-4c3dedbb5845"
      },
      "execution_count": 23,
      "outputs": [
        {
          "output_type": "stream",
          "name": "stdout",
          "text": [
            "Trial 30 Complete [00h 00m 47s]\n",
            "val_accuracy: 0.7714166641235352\n",
            "\n",
            "Best val_accuracy So Far: 0.8826666474342346\n",
            "Total elapsed time: 00h 12m 14s\n",
            "best unit is 320, and best learning rate is 0.01 \n"
          ]
        }
      ]
    },
    {
      "cell_type": "code",
      "source": [
        "model=tuner.hypermodel.build(best_parmetres)\n",
        "history=model.fit(xtrain,ytrain,epochs=50, validation_split=0.2)"
      ],
      "metadata": {
        "id": "CRgurpxpyKkj",
        "colab": {
          "base_uri": "https://localhost:8080/"
        },
        "outputId": "2e00637e-90fa-4082-bdcb-d865949eb094"
      },
      "execution_count": 25,
      "outputs": [
        {
          "output_type": "stream",
          "name": "stdout",
          "text": [
            "Epoch 1/50\n",
            "1500/1500 [==============================] - 5s 3ms/step - loss: 0.6130 - accuracy: 0.7785 - val_loss: 0.4753 - val_accuracy: 0.8285\n",
            "Epoch 2/50\n",
            "1500/1500 [==============================] - 5s 3ms/step - loss: 0.4310 - accuracy: 0.8444 - val_loss: 0.4065 - val_accuracy: 0.8501\n",
            "Epoch 3/50\n",
            "1500/1500 [==============================] - 4s 3ms/step - loss: 0.3913 - accuracy: 0.8556 - val_loss: 0.3963 - val_accuracy: 0.8557\n",
            "Epoch 4/50\n",
            "1500/1500 [==============================] - 4s 3ms/step - loss: 0.3647 - accuracy: 0.8661 - val_loss: 0.3798 - val_accuracy: 0.8643\n",
            "Epoch 5/50\n",
            "1500/1500 [==============================] - 5s 3ms/step - loss: 0.3439 - accuracy: 0.8741 - val_loss: 0.3642 - val_accuracy: 0.8663\n",
            "Epoch 6/50\n",
            "1500/1500 [==============================] - 4s 3ms/step - loss: 0.3273 - accuracy: 0.8787 - val_loss: 0.3558 - val_accuracy: 0.8723\n",
            "Epoch 7/50\n",
            "1500/1500 [==============================] - 4s 3ms/step - loss: 0.3157 - accuracy: 0.8835 - val_loss: 0.3573 - val_accuracy: 0.8680\n",
            "Epoch 8/50\n",
            "1500/1500 [==============================] - 5s 3ms/step - loss: 0.3039 - accuracy: 0.8861 - val_loss: 0.3298 - val_accuracy: 0.8813\n",
            "Epoch 9/50\n",
            "1500/1500 [==============================] - 4s 3ms/step - loss: 0.2933 - accuracy: 0.8908 - val_loss: 0.3435 - val_accuracy: 0.8782\n",
            "Epoch 10/50\n",
            "1500/1500 [==============================] - 6s 4ms/step - loss: 0.2853 - accuracy: 0.8932 - val_loss: 0.3366 - val_accuracy: 0.8789\n",
            "Epoch 11/50\n",
            "1500/1500 [==============================] - 4s 3ms/step - loss: 0.2766 - accuracy: 0.8975 - val_loss: 0.3331 - val_accuracy: 0.8778\n",
            "Epoch 12/50\n",
            "1500/1500 [==============================] - 4s 3ms/step - loss: 0.2681 - accuracy: 0.9005 - val_loss: 0.3380 - val_accuracy: 0.8761\n",
            "Epoch 13/50\n",
            "1500/1500 [==============================] - 5s 3ms/step - loss: 0.2648 - accuracy: 0.9005 - val_loss: 0.3226 - val_accuracy: 0.8823\n",
            "Epoch 14/50\n",
            "1500/1500 [==============================] - 4s 3ms/step - loss: 0.2554 - accuracy: 0.9038 - val_loss: 0.3357 - val_accuracy: 0.8771\n",
            "Epoch 15/50\n",
            "1500/1500 [==============================] - 4s 3ms/step - loss: 0.2506 - accuracy: 0.9071 - val_loss: 0.3071 - val_accuracy: 0.8900\n",
            "Epoch 16/50\n",
            "1500/1500 [==============================] - 5s 3ms/step - loss: 0.2436 - accuracy: 0.9090 - val_loss: 0.3227 - val_accuracy: 0.8863\n",
            "Epoch 17/50\n",
            "1500/1500 [==============================] - 4s 3ms/step - loss: 0.2391 - accuracy: 0.9105 - val_loss: 0.3301 - val_accuracy: 0.8829\n",
            "Epoch 18/50\n",
            "1500/1500 [==============================] - 5s 3ms/step - loss: 0.2342 - accuracy: 0.9111 - val_loss: 0.3203 - val_accuracy: 0.8881\n",
            "Epoch 19/50\n",
            "1500/1500 [==============================] - 4s 3ms/step - loss: 0.2289 - accuracy: 0.9133 - val_loss: 0.3392 - val_accuracy: 0.8829\n",
            "Epoch 20/50\n",
            "1500/1500 [==============================] - 4s 3ms/step - loss: 0.2225 - accuracy: 0.9164 - val_loss: 0.3280 - val_accuracy: 0.8857\n",
            "Epoch 21/50\n",
            "1500/1500 [==============================] - 5s 3ms/step - loss: 0.2194 - accuracy: 0.9172 - val_loss: 0.3312 - val_accuracy: 0.8847\n",
            "Epoch 22/50\n",
            "1500/1500 [==============================] - 4s 3ms/step - loss: 0.2140 - accuracy: 0.9198 - val_loss: 0.3346 - val_accuracy: 0.8851\n",
            "Epoch 23/50\n",
            "1500/1500 [==============================] - 4s 3ms/step - loss: 0.2100 - accuracy: 0.9204 - val_loss: 0.3525 - val_accuracy: 0.8802\n",
            "Epoch 24/50\n",
            "1500/1500 [==============================] - 5s 3ms/step - loss: 0.2065 - accuracy: 0.9209 - val_loss: 0.3269 - val_accuracy: 0.8885\n",
            "Epoch 25/50\n",
            "1500/1500 [==============================] - 4s 3ms/step - loss: 0.2021 - accuracy: 0.9229 - val_loss: 0.3386 - val_accuracy: 0.8834\n",
            "Epoch 26/50\n",
            "1500/1500 [==============================] - 4s 3ms/step - loss: 0.2022 - accuracy: 0.9224 - val_loss: 0.3553 - val_accuracy: 0.8863\n",
            "Epoch 27/50\n",
            "1500/1500 [==============================] - 5s 3ms/step - loss: 0.1945 - accuracy: 0.9259 - val_loss: 0.3173 - val_accuracy: 0.8953\n",
            "Epoch 28/50\n",
            "1500/1500 [==============================] - 4s 3ms/step - loss: 0.1903 - accuracy: 0.9277 - val_loss: 0.3370 - val_accuracy: 0.8913\n",
            "Epoch 29/50\n",
            "1500/1500 [==============================] - 5s 3ms/step - loss: 0.1900 - accuracy: 0.9280 - val_loss: 0.3311 - val_accuracy: 0.8913\n",
            "Epoch 30/50\n",
            "1500/1500 [==============================] - 4s 3ms/step - loss: 0.1867 - accuracy: 0.9304 - val_loss: 0.3218 - val_accuracy: 0.8912\n",
            "Epoch 31/50\n",
            "1500/1500 [==============================] - 4s 3ms/step - loss: 0.1820 - accuracy: 0.9313 - val_loss: 0.3366 - val_accuracy: 0.8913\n",
            "Epoch 32/50\n",
            "1500/1500 [==============================] - 5s 3ms/step - loss: 0.1793 - accuracy: 0.9324 - val_loss: 0.3540 - val_accuracy: 0.8826\n",
            "Epoch 33/50\n",
            "1500/1500 [==============================] - 4s 3ms/step - loss: 0.1761 - accuracy: 0.9338 - val_loss: 0.3530 - val_accuracy: 0.8892\n",
            "Epoch 34/50\n",
            "1500/1500 [==============================] - 4s 3ms/step - loss: 0.1723 - accuracy: 0.9347 - val_loss: 0.3542 - val_accuracy: 0.8862\n",
            "Epoch 35/50\n",
            "1500/1500 [==============================] - 5s 3ms/step - loss: 0.1705 - accuracy: 0.9354 - val_loss: 0.3391 - val_accuracy: 0.8923\n",
            "Epoch 36/50\n",
            "1500/1500 [==============================] - 4s 3ms/step - loss: 0.1658 - accuracy: 0.9365 - val_loss: 0.3499 - val_accuracy: 0.8901\n",
            "Epoch 37/50\n",
            "1500/1500 [==============================] - 4s 3ms/step - loss: 0.1632 - accuracy: 0.9386 - val_loss: 0.3502 - val_accuracy: 0.8903\n",
            "Epoch 38/50\n",
            "1500/1500 [==============================] - 5s 3ms/step - loss: 0.1617 - accuracy: 0.9386 - val_loss: 0.3794 - val_accuracy: 0.8860\n",
            "Epoch 39/50\n",
            "1500/1500 [==============================] - 4s 3ms/step - loss: 0.1593 - accuracy: 0.9402 - val_loss: 0.3555 - val_accuracy: 0.8917\n",
            "Epoch 40/50\n",
            "1500/1500 [==============================] - 5s 3ms/step - loss: 0.1559 - accuracy: 0.9411 - val_loss: 0.3463 - val_accuracy: 0.8962\n",
            "Epoch 41/50\n",
            "1500/1500 [==============================] - 4s 3ms/step - loss: 0.1535 - accuracy: 0.9419 - val_loss: 0.3663 - val_accuracy: 0.8906\n",
            "Epoch 42/50\n",
            "1500/1500 [==============================] - 4s 3ms/step - loss: 0.1512 - accuracy: 0.9432 - val_loss: 0.3730 - val_accuracy: 0.8894\n",
            "Epoch 43/50\n",
            "1500/1500 [==============================] - 5s 3ms/step - loss: 0.1497 - accuracy: 0.9436 - val_loss: 0.3698 - val_accuracy: 0.8878\n",
            "Epoch 44/50\n",
            "1500/1500 [==============================] - 4s 3ms/step - loss: 0.1469 - accuracy: 0.9433 - val_loss: 0.3694 - val_accuracy: 0.8901\n",
            "Epoch 45/50\n",
            "1500/1500 [==============================] - 4s 3ms/step - loss: 0.1458 - accuracy: 0.9442 - val_loss: 0.3740 - val_accuracy: 0.8906\n",
            "Epoch 46/50\n",
            "1500/1500 [==============================] - 5s 3ms/step - loss: 0.1411 - accuracy: 0.9472 - val_loss: 0.3871 - val_accuracy: 0.8865\n",
            "Epoch 47/50\n",
            "1500/1500 [==============================] - 4s 3ms/step - loss: 0.1416 - accuracy: 0.9467 - val_loss: 0.4031 - val_accuracy: 0.8825\n",
            "Epoch 48/50\n",
            "1500/1500 [==============================] - 4s 3ms/step - loss: 0.1385 - accuracy: 0.9472 - val_loss: 0.3959 - val_accuracy: 0.8899\n",
            "Epoch 49/50\n",
            "1500/1500 [==============================] - 5s 3ms/step - loss: 0.1367 - accuracy: 0.9475 - val_loss: 0.3868 - val_accuracy: 0.8907\n",
            "Epoch 50/50\n",
            "1500/1500 [==============================] - 4s 3ms/step - loss: 0.1324 - accuracy: 0.9501 - val_loss: 0.3834 - val_accuracy: 0.8930\n"
          ]
        }
      ]
    },
    {
      "cell_type": "code",
      "source": [
        "val_acc_per_epoch = history.history['val_accuracy']\n",
        "best_epoch = val_acc_per_epoch.index(max(val_acc_per_epoch)) + 1\n",
        "print('Best epoch: %d' % (best_epoch,))"
      ],
      "metadata": {
        "colab": {
          "base_uri": "https://localhost:8080/"
        },
        "id": "ZtMnj1N9VgpW",
        "outputId": "d291fdc1-9023-4d7b-9d56-a93638924e3d"
      },
      "execution_count": 26,
      "outputs": [
        {
          "output_type": "stream",
          "name": "stdout",
          "text": [
            "Best epoch: 40\n"
          ]
        }
      ]
    },
    {
      "cell_type": "code",
      "source": [],
      "metadata": {
        "id": "61E_eP4IfDcK"
      },
      "execution_count": null,
      "outputs": []
    }
  ]
}